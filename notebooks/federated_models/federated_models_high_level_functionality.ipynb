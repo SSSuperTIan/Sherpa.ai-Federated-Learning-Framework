{
 "cells": [
  {
   "cell_type": "markdown",
   "metadata": {},
   "source": [
    "# Federated models: high level functionality\n",
    "\n",
    "In this notebook we show the high-level functionality of the framework. It implements some predefined federated learning (FL) scenarios to make it as easy as possible to use. Clearly, in this predefined simulation there are some parameters prefixed (e.g. the aggregation operator or the learning model). If you prefer to set up your own simulation scenario, please see [Federated learning basic concepts](../federated_learning/federated_learning_basic_concepts.ipynb) notebook, where you will find more detailed information.\n",
    "\n",
    "Specifically, we present the high-level function as follows:\n",
    "\n",
    "<tt> HighLevelFunction(data_base_name, iid=\"True\", num_nodes=20, percent=100) </tt>\n",
    "\n",
    "where *data_base_name* may be one of the fixed datasets for each task.\n",
    "\n",
    "The rest of the function params correspond to some changeable params:\n",
    "\n",
    "- *iid*: you can change between I.I.D (by default *iid=\"True\"*) or non-I.I.D (*iid=\"False\"*) data distributions. In both scenarios, data splitting between clients will be equitable (non weighted) and without replacement (for more information see notebook [Federated sampling](../federated_learning/federated_learning_sampling.ipynb)).\n",
    "- *num_nodes*: you can choose the number of clients for the simulation by changing the *num_nodes* parameter (by default 20).\n",
    "- *percent*: you decide the percentage of the database that you want to split across the clients by changing the *percent* parameter (by default 100, $percent\\in [0,100]$).\n",
    "\n",
    "Furthermore, you have the possibility of changing the number of rounds of learning that you want to train changing the *n* param (by default 5) of the function: \n",
    "\n",
    "<tt> run_rounds(n=5) </tt>\n",
    "\n",
    "## High-level image classifier\n",
    "\n",
    "For the moment, the databases which can be used are:\n",
    "\n",
    "- EMNIST: for the [Emnist](https://www.nist.gov/itl/products-and-services/emnist-dataset) Digits dataset. \n",
    "- FASHION_EMNIST: for the [Fashion EMNIST](https://github.com/zalandoresearch/fashion-mnist) database.\n",
    "\n",
    "In addition, as FL model we use a CNN-based neural network architecture based on two CNN layers and FedAvg as aggregation operator (see notebook [Federated learning aggregation operators](../federated_learning/federated_learning_basic_concepts_aggregation_operators.ipynb)).\n",
    "\n",
    "For more information about how to change some parameters or implementation details visit [federated_images_classifier.py](https://github.com/sherpaai/Sherpa.ai-Federated-Learning-Framework/blob/master/shfl/federated_government/federated_images_classifier.py)."
   ]
  },
  {
   "cell_type": "code",
   "execution_count": null,
   "metadata": {
    "pycharm": {
     "is_executing": false
    }
   },
   "outputs": [],
   "source": [
    "import shfl\n",
    "\n",
    "classifier = shfl.federated_government.FederatedImagesClassifier('EMNIST')\n",
    "classifier.run_rounds()"
   ]
  },
  {
   "cell_type": "markdown",
   "metadata": {},
   "source": [
    "## High-level clustering\n",
    "\n",
    "For the moment, the databases which can be used are:\n",
    "\n",
    "- IRIS: for the [Iris](https://archive.ics.uci.edu/ml/datasets/iris) dataset. \n",
    "\n",
    "In addition, as FL model we use [KMeans](https://scikit-learn.org/stable/modules/generated/sklearn.cluster.KMeans.html) from scikit-learn with the same number of clustering in each client and ClusterFedAvg as aggregation operator (see notebook [Federated learning aggregation operators](../federated_learning/federated_learning_basic_concepts_aggregation_operators.ipynb)).\n",
    "\n",
    "For more information about how to change some parameters or implementation details visit [federated_clustering.py](https://github.com/sherpaai/Sherpa.ai-Federated-Learning-Framework/blob/master/shfl/federated_government/federated_clustering.py)."
   ]
  },
  {
   "cell_type": "code",
   "execution_count": null,
   "metadata": {},
   "outputs": [],
   "source": [
    "clustering = shfl.federated_government.FederatedClustering('IRIS')\n",
    "clustering.run_rounds()"
   ]
  },
  {
   "cell_type": "markdown",
   "metadata": {},
   "source": [
    "## High-level linear regression\n",
    "\n",
    "For the moment, the databases which can be used are:\n",
    "\n",
    "- CALIFORNIA: for the [California Housing](https://www.kaggle.com/paraggurjar/california-house-price-simple-linear-regression) dataset. \n",
    "\n",
    "In addition, as FL model we use [LinearRegression](https://scikit-learn.org/stable/modules/generated/sklearn.linear_model.LinearRegression.html) from scikit-learn with the same number of clustering in each client and FedAvg as aggregation operator (see notebook [Federated learning aggregation operators](../federated_learning/federated_learning_basic_concepts_aggregation_operators.ipynb)).\n",
    "\n",
    "For more information about how to change some parameters or implementation details visit [federated_linear_regression.py](https://github.com/sherpaai/Sherpa.ai-Federated-Learning-Framework/blob/master/shfl/federated_government/federated_linear_regression.py)."
   ]
  },
  {
   "cell_type": "code",
   "execution_count": 3,
   "metadata": {},
   "outputs": [
    {
     "name": "stdout",
     "output_type": "stream",
     "text": [
      "Round 0\n",
      "Test performance client <shfl.private.federated_operation.FederatedDataNode object at 0x7f4c5a23b470>: (0.7120828831950755, 0.6240087830438259)\n",
      "Test performance client <shfl.private.federated_operation.FederatedDataNode object at 0x7f4c5a23b3c8>: (0.7088970114476526, 0.6273656399500926)\n",
      "Test performance client <shfl.private.federated_operation.FederatedDataNode object at 0x7f4c5a23b4e0>: (0.7385805722243802, 0.5955057368459704)\n",
      "Test performance client <shfl.private.federated_operation.FederatedDataNode object at 0x7f4c5a23b6a0>: (0.7383623566779188, 0.5957447192959451)\n",
      "Test performance client <shfl.private.federated_operation.FederatedDataNode object at 0x7f4c5a23b780>: (0.7347605713649499, 0.5996790731623409)\n",
      "Test performance client <shfl.private.federated_operation.FederatedDataNode object at 0x7f4c5a23b860>: (0.7078004179007064, 0.6285176052542927)\n",
      "Test performance client <shfl.private.federated_operation.FederatedDataNode object at 0x7f4c5a23b940>: (0.7071329377295175, 0.6292179162744975)\n",
      "Test performance client <shfl.private.federated_operation.FederatedDataNode object at 0x7f4c5a23ba20>: (0.732515769186446, 0.6021214158318704)\n",
      "Test performance client <shfl.private.federated_operation.FederatedDataNode object at 0x7f4c5a23bb00>: (0.7465765622839832, 0.5867000901094023)\n",
      "Test performance client <shfl.private.federated_operation.FederatedDataNode object at 0x7f4c5a23bbe0>: (0.7087918424467561, 0.6274761967043515)\n",
      "Test performance client <shfl.private.federated_operation.FederatedDataNode object at 0x7f4c5a23bcc0>: (0.7061292459604485, 0.6302697321171694)\n",
      "Test performance client <shfl.private.federated_operation.FederatedDataNode object at 0x7f4c5a23bda0>: (0.7475591494998857, 0.585611466465481)\n",
      "Test performance client <shfl.private.federated_operation.FederatedDataNode object at 0x7f4c5a23be80>: (0.7051984488270032, 0.6312438230663877)\n",
      "Test performance client <shfl.private.federated_operation.FederatedDataNode object at 0x7f4c5a23bf60>: (0.7059339599177944, 0.6304742079325487)\n",
      "Test performance client <shfl.private.federated_operation.FederatedDataNode object at 0x7f4c561f1080>: (0.7110739929594884, 0.6250734488385045)\n",
      "Test performance client <shfl.private.federated_operation.FederatedDataNode object at 0x7f4c561f1160>: (0.7260820887780476, 0.6090798522322731)\n",
      "Test performance client <shfl.private.federated_operation.FederatedDataNode object at 0x7f4c561f1240>: (0.7148092428878735, 0.6211241478290448)\n",
      "Test performance client <shfl.private.federated_operation.FederatedDataNode object at 0x7f4c561f1320>: (0.7072687050995242, 0.62907552454519)\n",
      "Test performance client <shfl.private.federated_operation.FederatedDataNode object at 0x7f4c561f1400>: (0.713328920826928, 0.6226917759422395)\n",
      "Test performance client <shfl.private.federated_operation.FederatedDataNode object at 0x7f4c561f14e0>: (0.7066584454455344, 0.6297153452642251)\n",
      "Collaborative model test performance : (0.7062711381044574, 0.6301211273351177)\n",
      "\n",
      "\n",
      "Round 1\n",
      "Test performance client <shfl.private.federated_operation.FederatedDataNode object at 0x7f4c5a23b470>: (0.7120828831950755, 0.6240087830438259)\n",
      "Test performance client <shfl.private.federated_operation.FederatedDataNode object at 0x7f4c5a23b3c8>: (0.7088970114476526, 0.6273656399500926)\n",
      "Test performance client <shfl.private.federated_operation.FederatedDataNode object at 0x7f4c5a23b4e0>: (0.7385805722243802, 0.5955057368459704)\n",
      "Test performance client <shfl.private.federated_operation.FederatedDataNode object at 0x7f4c5a23b6a0>: (0.7383623566779188, 0.5957447192959451)\n",
      "Test performance client <shfl.private.federated_operation.FederatedDataNode object at 0x7f4c5a23b780>: (0.7347605713649499, 0.5996790731623409)\n",
      "Test performance client <shfl.private.federated_operation.FederatedDataNode object at 0x7f4c5a23b860>: (0.7078004179007064, 0.6285176052542927)\n",
      "Test performance client <shfl.private.federated_operation.FederatedDataNode object at 0x7f4c5a23b940>: (0.7071329377295175, 0.6292179162744975)\n",
      "Test performance client <shfl.private.federated_operation.FederatedDataNode object at 0x7f4c5a23ba20>: (0.732515769186446, 0.6021214158318704)\n",
      "Test performance client <shfl.private.federated_operation.FederatedDataNode object at 0x7f4c5a23bb00>: (0.7465765622839832, 0.5867000901094023)\n",
      "Test performance client <shfl.private.federated_operation.FederatedDataNode object at 0x7f4c5a23bbe0>: (0.7087918424467561, 0.6274761967043515)\n",
      "Test performance client <shfl.private.federated_operation.FederatedDataNode object at 0x7f4c5a23bcc0>: (0.7061292459604485, 0.6302697321171694)\n",
      "Test performance client <shfl.private.federated_operation.FederatedDataNode object at 0x7f4c5a23bda0>: (0.7475591494998857, 0.585611466465481)\n",
      "Test performance client <shfl.private.federated_operation.FederatedDataNode object at 0x7f4c5a23be80>: (0.7051984488270032, 0.6312438230663877)\n",
      "Test performance client <shfl.private.federated_operation.FederatedDataNode object at 0x7f4c5a23bf60>: (0.7059339599177944, 0.6304742079325487)\n",
      "Test performance client <shfl.private.federated_operation.FederatedDataNode object at 0x7f4c561f1080>: (0.7110739929594884, 0.6250734488385045)\n",
      "Test performance client <shfl.private.federated_operation.FederatedDataNode object at 0x7f4c561f1160>: (0.7260820887780476, 0.6090798522322731)\n",
      "Test performance client <shfl.private.federated_operation.FederatedDataNode object at 0x7f4c561f1240>: (0.7148092428878735, 0.6211241478290448)\n",
      "Test performance client <shfl.private.federated_operation.FederatedDataNode object at 0x7f4c561f1320>: (0.7072687050995242, 0.62907552454519)\n",
      "Test performance client <shfl.private.federated_operation.FederatedDataNode object at 0x7f4c561f1400>: (0.713328920826928, 0.6226917759422395)\n",
      "Test performance client <shfl.private.federated_operation.FederatedDataNode object at 0x7f4c561f14e0>: (0.7066584454455344, 0.6297153452642251)\n",
      "Collaborative model test performance : (0.7062711381044574, 0.6301211273351177)\n",
      "\n",
      "\n",
      "Round 2\n",
      "Test performance client <shfl.private.federated_operation.FederatedDataNode object at 0x7f4c5a23b470>: (0.7120828831950755, 0.6240087830438259)\n",
      "Test performance client <shfl.private.federated_operation.FederatedDataNode object at 0x7f4c5a23b3c8>: (0.7088970114476526, 0.6273656399500926)\n",
      "Test performance client <shfl.private.federated_operation.FederatedDataNode object at 0x7f4c5a23b4e0>: (0.7385805722243802, 0.5955057368459704)\n",
      "Test performance client <shfl.private.federated_operation.FederatedDataNode object at 0x7f4c5a23b6a0>: (0.7383623566779188, 0.5957447192959451)\n",
      "Test performance client <shfl.private.federated_operation.FederatedDataNode object at 0x7f4c5a23b780>: (0.7347605713649499, 0.5996790731623409)\n",
      "Test performance client <shfl.private.federated_operation.FederatedDataNode object at 0x7f4c5a23b860>: (0.7078004179007064, 0.6285176052542927)\n",
      "Test performance client <shfl.private.federated_operation.FederatedDataNode object at 0x7f4c5a23b940>: (0.7071329377295175, 0.6292179162744975)\n",
      "Test performance client <shfl.private.federated_operation.FederatedDataNode object at 0x7f4c5a23ba20>: (0.732515769186446, 0.6021214158318704)\n",
      "Test performance client <shfl.private.federated_operation.FederatedDataNode object at 0x7f4c5a23bb00>: (0.7465765622839832, 0.5867000901094023)\n",
      "Test performance client <shfl.private.federated_operation.FederatedDataNode object at 0x7f4c5a23bbe0>: (0.7087918424467561, 0.6274761967043515)\n",
      "Test performance client <shfl.private.federated_operation.FederatedDataNode object at 0x7f4c5a23bcc0>: (0.7061292459604485, 0.6302697321171694)\n",
      "Test performance client <shfl.private.federated_operation.FederatedDataNode object at 0x7f4c5a23bda0>: (0.7475591494998857, 0.585611466465481)\n",
      "Test performance client <shfl.private.federated_operation.FederatedDataNode object at 0x7f4c5a23be80>: (0.7051984488270032, 0.6312438230663877)\n",
      "Test performance client <shfl.private.federated_operation.FederatedDataNode object at 0x7f4c5a23bf60>: (0.7059339599177944, 0.6304742079325487)\n",
      "Test performance client <shfl.private.federated_operation.FederatedDataNode object at 0x7f4c561f1080>: (0.7110739929594884, 0.6250734488385045)\n",
      "Test performance client <shfl.private.federated_operation.FederatedDataNode object at 0x7f4c561f1160>: (0.7260820887780476, 0.6090798522322731)\n",
      "Test performance client <shfl.private.federated_operation.FederatedDataNode object at 0x7f4c561f1240>: (0.7148092428878735, 0.6211241478290448)\n",
      "Test performance client <shfl.private.federated_operation.FederatedDataNode object at 0x7f4c561f1320>: (0.7072687050995242, 0.62907552454519)\n",
      "Test performance client <shfl.private.federated_operation.FederatedDataNode object at 0x7f4c561f1400>: (0.713328920826928, 0.6226917759422395)\n",
      "Test performance client <shfl.private.federated_operation.FederatedDataNode object at 0x7f4c561f14e0>: (0.7066584454455344, 0.6297153452642251)\n",
      "Collaborative model test performance : (0.7062711381044574, 0.6301211273351177)\n",
      "\n",
      "\n",
      "Round 3\n",
      "Test performance client <shfl.private.federated_operation.FederatedDataNode object at 0x7f4c5a23b470>: (0.7120828831950755, 0.6240087830438259)\n",
      "Test performance client <shfl.private.federated_operation.FederatedDataNode object at 0x7f4c5a23b3c8>: (0.7088970114476526, 0.6273656399500926)\n",
      "Test performance client <shfl.private.federated_operation.FederatedDataNode object at 0x7f4c5a23b4e0>: (0.7385805722243802, 0.5955057368459704)\n",
      "Test performance client <shfl.private.federated_operation.FederatedDataNode object at 0x7f4c5a23b6a0>: (0.7383623566779188, 0.5957447192959451)\n",
      "Test performance client <shfl.private.federated_operation.FederatedDataNode object at 0x7f4c5a23b780>: (0.7347605713649499, 0.5996790731623409)\n",
      "Test performance client <shfl.private.federated_operation.FederatedDataNode object at 0x7f4c5a23b860>: (0.7078004179007064, 0.6285176052542927)\n",
      "Test performance client <shfl.private.federated_operation.FederatedDataNode object at 0x7f4c5a23b940>: (0.7071329377295175, 0.6292179162744975)\n",
      "Test performance client <shfl.private.federated_operation.FederatedDataNode object at 0x7f4c5a23ba20>: (0.732515769186446, 0.6021214158318704)\n",
      "Test performance client <shfl.private.federated_operation.FederatedDataNode object at 0x7f4c5a23bb00>: (0.7465765622839832, 0.5867000901094023)\n",
      "Test performance client <shfl.private.federated_operation.FederatedDataNode object at 0x7f4c5a23bbe0>: (0.7087918424467561, 0.6274761967043515)\n",
      "Test performance client <shfl.private.federated_operation.FederatedDataNode object at 0x7f4c5a23bcc0>: (0.7061292459604485, 0.6302697321171694)\n",
      "Test performance client <shfl.private.federated_operation.FederatedDataNode object at 0x7f4c5a23bda0>: (0.7475591494998857, 0.585611466465481)\n",
      "Test performance client <shfl.private.federated_operation.FederatedDataNode object at 0x7f4c5a23be80>: (0.7051984488270032, 0.6312438230663877)\n",
      "Test performance client <shfl.private.federated_operation.FederatedDataNode object at 0x7f4c5a23bf60>: (0.7059339599177944, 0.6304742079325487)\n",
      "Test performance client <shfl.private.federated_operation.FederatedDataNode object at 0x7f4c561f1080>: (0.7110739929594884, 0.6250734488385045)\n",
      "Test performance client <shfl.private.federated_operation.FederatedDataNode object at 0x7f4c561f1160>: (0.7260820887780476, 0.6090798522322731)\n",
      "Test performance client <shfl.private.federated_operation.FederatedDataNode object at 0x7f4c561f1240>: (0.7148092428878735, 0.6211241478290448)\n",
      "Test performance client <shfl.private.federated_operation.FederatedDataNode object at 0x7f4c561f1320>: (0.7072687050995242, 0.62907552454519)\n",
      "Test performance client <shfl.private.federated_operation.FederatedDataNode object at 0x7f4c561f1400>: (0.713328920826928, 0.6226917759422395)\n",
      "Test performance client <shfl.private.federated_operation.FederatedDataNode object at 0x7f4c561f14e0>: (0.7066584454455344, 0.6297153452642251)\n",
      "Collaborative model test performance : (0.7062711381044574, 0.6301211273351177)\n",
      "\n",
      "\n",
      "Round 4\n",
      "Test performance client <shfl.private.federated_operation.FederatedDataNode object at 0x7f4c5a23b470>: (0.7120828831950755, 0.6240087830438259)\n",
      "Test performance client <shfl.private.federated_operation.FederatedDataNode object at 0x7f4c5a23b3c8>: (0.7088970114476526, 0.6273656399500926)\n",
      "Test performance client <shfl.private.federated_operation.FederatedDataNode object at 0x7f4c5a23b4e0>: (0.7385805722243802, 0.5955057368459704)\n",
      "Test performance client <shfl.private.federated_operation.FederatedDataNode object at 0x7f4c5a23b6a0>: (0.7383623566779188, 0.5957447192959451)\n",
      "Test performance client <shfl.private.federated_operation.FederatedDataNode object at 0x7f4c5a23b780>: (0.7347605713649499, 0.5996790731623409)\n",
      "Test performance client <shfl.private.federated_operation.FederatedDataNode object at 0x7f4c5a23b860>: (0.7078004179007064, 0.6285176052542927)\n",
      "Test performance client <shfl.private.federated_operation.FederatedDataNode object at 0x7f4c5a23b940>: (0.7071329377295175, 0.6292179162744975)\n",
      "Test performance client <shfl.private.federated_operation.FederatedDataNode object at 0x7f4c5a23ba20>: (0.732515769186446, 0.6021214158318704)\n",
      "Test performance client <shfl.private.federated_operation.FederatedDataNode object at 0x7f4c5a23bb00>: (0.7465765622839832, 0.5867000901094023)\n",
      "Test performance client <shfl.private.federated_operation.FederatedDataNode object at 0x7f4c5a23bbe0>: (0.7087918424467561, 0.6274761967043515)\n",
      "Test performance client <shfl.private.federated_operation.FederatedDataNode object at 0x7f4c5a23bcc0>: (0.7061292459604485, 0.6302697321171694)\n",
      "Test performance client <shfl.private.federated_operation.FederatedDataNode object at 0x7f4c5a23bda0>: (0.7475591494998857, 0.585611466465481)\n",
      "Test performance client <shfl.private.federated_operation.FederatedDataNode object at 0x7f4c5a23be80>: (0.7051984488270032, 0.6312438230663877)\n",
      "Test performance client <shfl.private.federated_operation.FederatedDataNode object at 0x7f4c5a23bf60>: (0.7059339599177944, 0.6304742079325487)\n",
      "Test performance client <shfl.private.federated_operation.FederatedDataNode object at 0x7f4c561f1080>: (0.7110739929594884, 0.6250734488385045)\n",
      "Test performance client <shfl.private.federated_operation.FederatedDataNode object at 0x7f4c561f1160>: (0.7260820887780476, 0.6090798522322731)\n",
      "Test performance client <shfl.private.federated_operation.FederatedDataNode object at 0x7f4c561f1240>: (0.7148092428878735, 0.6211241478290448)\n",
      "Test performance client <shfl.private.federated_operation.FederatedDataNode object at 0x7f4c561f1320>: (0.7072687050995242, 0.62907552454519)\n",
      "Test performance client <shfl.private.federated_operation.FederatedDataNode object at 0x7f4c561f1400>: (0.713328920826928, 0.6226917759422395)\n",
      "Test performance client <shfl.private.federated_operation.FederatedDataNode object at 0x7f4c561f14e0>: (0.7066584454455344, 0.6297153452642251)\n",
      "Collaborative model test performance : (0.7062711381044574, 0.6301211273351177)\n",
      "\n",
      "\n"
     ]
    },
    {
     "name": "stderr",
     "output_type": "stream",
     "text": [
      "/home/goran/FilesG/Work/Sherpa/Coding/Github/Sherpa.FL/release/shfl/data_distribution/data_distribution_iid.py:64: VisibleDeprecationWarning: Creating an ndarray from ragged nested sequences (which is a list-or-tuple of lists-or-tuples-or ndarrays with different lengths or shapes) is deprecated. If you meant to do this, you must specify 'dtype=object' when creating the ndarray\n",
      "  federated_data = np.array(federated_data)\n",
      "/home/goran/FilesG/Work/Sherpa/Coding/Github/Sherpa.FL/release/shfl/data_distribution/data_distribution_iid.py:65: VisibleDeprecationWarning: Creating an ndarray from ragged nested sequences (which is a list-or-tuple of lists-or-tuples-or ndarrays with different lengths or shapes) is deprecated. If you meant to do this, you must specify 'dtype=object' when creating the ndarray\n",
      "  federated_label = np.array(federated_label)\n"
     ]
    }
   ],
   "source": [
    "linear_regression = shfl.federated_government.FederatedLinearRegression('CALIFORNIA')\n",
    "linear_regression.run_rounds()"
   ]
  }
 ],
 "metadata": {
  "kernelspec": {
   "display_name": "SherpaFL_py37",
   "language": "python",
   "name": "sherpafl_py37"
  },
  "language_info": {
   "codemirror_mode": {
    "name": "ipython",
    "version": 3
   },
   "file_extension": ".py",
   "mimetype": "text/x-python",
   "name": "python",
   "nbconvert_exporter": "python",
   "pygments_lexer": "ipython3",
   "version": "3.7.3"
  },
  "pycharm": {
   "stem_cell": {
    "cell_type": "raw",
    "metadata": {
     "collapsed": false
    },
    "source": []
   }
  }
 },
 "nbformat": 4,
 "nbformat_minor": 4
}
