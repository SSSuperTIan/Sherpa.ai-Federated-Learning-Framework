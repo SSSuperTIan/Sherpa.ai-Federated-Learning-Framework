{
 "cells": [
  {
   "cell_type": "markdown",
   "metadata": {},
   "source": [
    "# Federated learning: Video classification with Keras\n",
    "The present experiment tackles the **federated video classification** using Sherpa Federated Learning (FL) Framework with Keras ([this tutorial](https://www.pyimagesearch.com/2019/07/15/video-classification-with-keras-and-deep-learning/) has been used as reference).\n",
    "\n",
    "## Dataset \n",
    "If not done already, we first need to download the dataset. \n",
    "It is a collection of labeled images of 12 different sports. \n",
    "For simplicity and for saving computational resources, we decide to only train for three sports, e.g. `tennis`, `football` and `weight_lifting`. However, more categories can be employed by modifying the `LABELS` object below. \n",
    "We also set the input parameters such as paths where to save and load the objects, and the number of federated learning rounds to run. Moreover, we can set the boolean parameter `train_network` to either train the federated neural network, or use a pre-trained model:"
   ]
  },
  {
   "cell_type": "code",
   "execution_count": 1,
   "metadata": {},
   "outputs": [
    {
     "name": "stdout",
     "output_type": "stream",
     "text": [
      "[INFO] training for labels: {'football', 'tennis', 'weight_lifting'}\n",
      "[INFO] creating data folders and cloning dataset repo ...\n",
      "[INFO] loading images...\n"
     ]
    }
   ],
   "source": [
    "import shfl\n",
    "import os\n",
    "import subprocess\n",
    "\n",
    "# Set the input parameters for the experiment:\n",
    "args = {\"data_path\":\"../data/video_classification/sports\", \n",
    "        \"output_path\": \"../data/video_classification/output\",\n",
    "        \"model_name\":\"activity.model\", \n",
    "        \"label_bin\": \"lb.pickle\", \n",
    "        \"federated_rounds\":3,\n",
    "        \"size_averaging\": 1, \n",
    "        \"train_network\": True}\n",
    "\n",
    "LABELS = set([\"weight_lifting\", \"tennis\", \"football\"])\n",
    "print(\"[INFO] training for labels: \" + str(LABELS))\n",
    "\n",
    "if not os.path.exists(args[\"data_path\"]):\n",
    "    print(\"[INFO] creating data folders and cloning dataset repo ...\")\n",
    "    subprocess.run([\"git\", \"clone\",  \"https://github.com/jurjsorinliviu/Sports-Type-Classifier\", args[\"data_path\"]])\n",
    "if not os.path.exists(args[\"output_path\"]):\n",
    "    os.mkdir(args[\"output_path\"])\n",
    "    \n",
    "import matplotlib\n",
    "matplotlib.use(\"Agg\")\n",
    "from sklearn.preprocessing import LabelBinarizer\n",
    "from sklearn.model_selection import train_test_split\n",
    "from sklearn.metrics import classification_report\n",
    "from imutils import paths\n",
    "import matplotlib.pyplot as plt\n",
    "import numpy as np\n",
    "import argparse\n",
    "import pickle\n",
    "import cv2\n",
    "\n",
    "print(\"[INFO] loading images...\")\n",
    "imagePaths = list(paths.list_images(os.path.join(args[\"data_path\"], \"data/\")))\n",
    "data = []\n",
    "labels = []\n",
    "\n",
    "# loop over the image paths\n",
    "for imagePath in imagePaths:\n",
    "    # extract the class label from the filename\n",
    "    label = imagePath.split(os.path.sep)[-2]\n",
    "\n",
    "    # if the label of the current image is not part of of the labels\n",
    "    # are interested in, then ignore the image\n",
    "    if label not in LABELS:\n",
    "        continue\n",
    "\n",
    "    # load the image, convert it to RGB channel ordering, and resize\n",
    "    # it to be a fixed 224x224 pixels, ignoring aspect ratio\n",
    "    image = cv2.imread(imagePath)\n",
    "    image = cv2.cvtColor(image, cv2.COLOR_BGR2RGB)\n",
    "    image = cv2.resize(image, (224, 224))\n",
    "\n",
    "    # update the data and labels lists, respectively\n",
    "    data.append(image)\n",
    "    labels.append(label)\n",
    "\n",
    "# convert the data and labels to NumPy arrays\n",
    "data = np.array(data)\n",
    "labels = np.array(labels)\n",
    "\n",
    "# perform one-hot encoding on the labels\n",
    "lb = LabelBinarizer()\n",
    "labels = lb.fit_transform(labels)"
   ]
  },
  {
   "cell_type": "markdown",
   "metadata": {},
   "source": [
    "Once the dataset is created, it is encapsulated in a Sherpa.FL dataset, and the train set is easily IID over the network of nodes:"
   ]
  },
  {
   "cell_type": "code",
   "execution_count": 2,
   "metadata": {},
   "outputs": [
    {
     "name": "stdout",
     "output_type": "stream",
     "text": [
      "[INFO] Number of train images: 1656\n",
      "[INFO] Number of test images: 414\n",
      "[INFO] Distributing the train set across the nodes...\n"
     ]
    },
    {
     "name": "stderr",
     "output_type": "stream",
     "text": [
      "/home/goran/FilesG/Work/Sherpa/Coding/Github/Sherpa.FL/shfl/data_distribution/data_distribution_iid.py:67: VisibleDeprecationWarning: Creating an ndarray from ragged nested sequences (which is a list-or-tuple of lists-or-tuples-or ndarrays with different lengths or shapes) is deprecated. If you meant to do this, you must specify 'dtype=object' when creating the ndarray\n",
      "  federated_data = np.array(federated_data)\n",
      "/home/goran/FilesG/Work/Sherpa/Coding/Github/Sherpa.FL/shfl/data_distribution/data_distribution_iid.py:68: VisibleDeprecationWarning: Creating an ndarray from ragged nested sequences (which is a list-or-tuple of lists-or-tuples-or ndarrays with different lengths or shapes) is deprecated. If you meant to do this, you must specify 'dtype=object' when creating the ndarray\n",
      "  federated_label = np.array(federated_label)\n"
     ]
    }
   ],
   "source": [
    "# Convert to a labeled database for shfl:\n",
    "database = shfl.data_base.LabeledDatabase(data, labels)\n",
    "train_data, train_labels, test_data, test_labels = database.load_data()\n",
    "\n",
    "print(\"[INFO] Number of train images: \" + str(len(train_data)))\n",
    "print(\"[INFO] Number of test images: \" + str(len(test_data)))\n",
    "\n",
    "# Distribute data over the federated network of nodes:\n",
    "print(\"[INFO] Distributing the train set across the nodes...\")\n",
    "iid_distribution = shfl.data_distribution.IidDataDistribution(database)\n",
    "federated_data, test_data, test_label = iid_distribution.get_federated_data(num_nodes=5, percent=100)"
   ]
  },
  {
   "cell_type": "markdown",
   "metadata": {},
   "source": [
    "## Training the network\n",
    "At this point, we can create our Keras model. \n",
    "We start from a pre-trained network, and we will only train the last layers (fine-tuning).\n",
    "An augmentation of the train set will be employed. \n",
    "We define the learning model class and a model builder:"
   ]
  },
  {
   "cell_type": "code",
   "execution_count": 3,
   "metadata": {},
   "outputs": [],
   "source": [
    "from tensorflow.keras.preprocessing.image import ImageDataGenerator\n",
    "from tensorflow.keras.layers import AveragePooling2D\n",
    "from tensorflow.keras.applications import ResNet50\n",
    "from tensorflow.keras.layers import Dropout\n",
    "from tensorflow.keras.layers import Flatten\n",
    "from tensorflow.keras.layers import Dense\n",
    "from tensorflow.keras.layers import Input\n",
    "from tensorflow.keras.models import Model\n",
    "from tensorflow.keras.optimizers import SGD\n",
    "from tensorflow.keras.models import load_model\n",
    "\n",
    "# initialize the training data augmentation object\n",
    "trainAug = ImageDataGenerator(\n",
    "    rotation_range=30,\n",
    "    zoom_range=0.15,\n",
    "    width_shift_range=0.2,\n",
    "    height_shift_range=0.2,\n",
    "    shear_range=0.15,\n",
    "    horizontal_flip=True,\n",
    "    fill_mode=\"nearest\")\n",
    "\n",
    "# initialize the validation/testing data augmentation object (which\n",
    "# we'll be adding mean subtraction to)\n",
    "valAug = ImageDataGenerator()\n",
    "\n",
    "# define the ImageNet mean subtraction (in RGB order) and set the\n",
    "# the mean subtraction value for each of the data augmentation\n",
    "# objects\n",
    "mean = np.array([123.68, 116.779, 103.939], dtype=\"float32\")\n",
    "trainAug.mean = mean\n",
    "valAug.mean = mean\n",
    "\n",
    "\n",
    "class DeepLearningModelAug(shfl.model.DeepLearningModel):\n",
    "    def train(self, data, labels):\n",
    "        self._check_data(data)\n",
    "        self._check_labels(labels)\n",
    "\n",
    "        #early_stopping = EarlyStopping(monitor='val_loss', patience=5, verbose=0, mode='min')\n",
    "        self._model.fit(x=trainAug.flow(data, labels, batch_size=32),\n",
    "            steps_per_epoch=len(data) // 32,\n",
    "            validation_data=valAug.flow(test_data, test_labels),\n",
    "            validation_steps=len(test_data) // 32,\n",
    "            epochs=self._epochs)\n",
    "\n",
    "def model_builder():\n",
    "    \n",
    "    # load the ResNet-50 network, where head FC layer sets are left off\n",
    "    baseModel = ResNet50(weights=\"imagenet\", include_top=False,\n",
    "        input_tensor=Input(shape=(224, 224, 3)))\n",
    "\n",
    "    # construct the head of the model that will be placed on top of the\n",
    "    # the base model\n",
    "    headModel = baseModel.output\n",
    "    headModel = AveragePooling2D(pool_size=(7, 7))(headModel)\n",
    "    headModel = Flatten(name=\"flatten\")(headModel)\n",
    "    headModel = Dense(512, activation=\"relu\")(headModel)\n",
    "    headModel = Dropout(0.5)(headModel)\n",
    "    headModel = Dense(len(lb.classes_), activation=\"softmax\")(headModel)\n",
    "\n",
    "    # place the head FC model on top of the base model (this will become\n",
    "    # the actual model we will train)\n",
    "    model = Model(inputs=baseModel.input, outputs=headModel)\n",
    "\n",
    "    # freeze pre-trained base model layers so they will\n",
    "    # *not* be updated during the training process\n",
    "    for layer in baseModel.layers:\n",
    "        layer.trainable = False\n",
    "\n",
    "    opt = SGD(lr=1e-4, momentum=0.9, decay=1e-4 / args[\"federated_rounds\"])\n",
    "    model.compile(loss=\"categorical_crossentropy\", optimizer=opt, metrics=[\"accuracy\"])\n",
    "\n",
    "    return DeepLearningModelAug(model, epochs=epochs_per_FL_round)"
   ]
  },
  {
   "cell_type": "markdown",
   "metadata": {},
   "source": [
    "Now we're ready to run the federated learning experiment. \n",
    "We choose the global model to be the average of the locally trained models by setting the aggregator to `FedAvgAggregator()`, we create the federated government and we run the FL rounds. \n",
    "Each client will train a local model using its own private data. Only a single epoch is performed (`epochs_per_FL_round=1`), then the local models are aggregated to form the global model, thus completing an FL round (note that this step is computationally demanding and could require several minutes depending on the machine used):"
   ]
  },
  {
   "cell_type": "code",
   "execution_count": 4,
   "metadata": {},
   "outputs": [
    {
     "name": "stdout",
     "output_type": "stream",
     "text": [
      "Accuracy round 0\n",
      "10/10 [==============================] - 22s 2s/step - loss: 1.0949 - accuracy: 0.5125 - val_loss: 0.6699 - val_accuracy: 0.7161\n",
      "10/10 [==============================] - 22s 2s/step - loss: 1.3148 - accuracy: 0.4883 - val_loss: 0.6522 - val_accuracy: 0.7318\n",
      "10/10 [==============================] - 22s 2s/step - loss: 1.4931 - accuracy: 0.4649 - val_loss: 0.5884 - val_accuracy: 0.8125\n",
      "10/10 [==============================] - 22s 2s/step - loss: 1.2122 - accuracy: 0.4716 - val_loss: 0.8783 - val_accuracy: 0.5339\n",
      "10/10 [==============================] - 22s 2s/step - loss: 1.3373 - accuracy: 0.4633 - val_loss: 0.5828 - val_accuracy: 0.7734\n",
      "Test performance client <shfl.private.federated_operation.FederatedDataNode object at 0x7f559c0e7358>: [0.6679731011390686, 0.7149758338928223]\n",
      "Test performance client <shfl.private.federated_operation.FederatedDataNode object at 0x7f559c0e7278>: [0.6620099544525146, 0.729468584060669]\n",
      "Test performance client <shfl.private.federated_operation.FederatedDataNode object at 0x7f559c0e72e8>: [0.584438145160675, 0.8140096664428711]\n",
      "Test performance client <shfl.private.federated_operation.FederatedDataNode object at 0x7f559c0e7668>: [0.874295711517334, 0.5410627722740173]\n",
      "Test performance client <shfl.private.federated_operation.FederatedDataNode object at 0x7f559c0e7748>: [0.603131890296936, 0.7657004594802856]\n"
     ]
    },
    {
     "name": "stderr",
     "output_type": "stream",
     "text": [
      "/home/goran/FilesG/Work/Sherpa/Coding/Github/Sherpa.FL/shfl/federated_aggregator/fedavg_aggregator.py:26: VisibleDeprecationWarning: Creating an ndarray from ragged nested sequences (which is a list-or-tuple of lists-or-tuples-or ndarrays with different lengths or shapes) is deprecated. If you meant to do this, you must specify 'dtype=object' when creating the ndarray\n",
      "  clients_params_array = np.array(clients_params)\n",
      "/home/goran/FilesG/Work/Sherpa/Coding/Github/Sherpa.FL/shfl/federated_aggregator/fedavg_aggregator.py:29: VisibleDeprecationWarning: Creating an ndarray from ragged nested sequences (which is a list-or-tuple of lists-or-tuples-or ndarrays with different lengths or shapes) is deprecated. If you meant to do this, you must specify 'dtype=object' when creating the ndarray\n",
      "  aggregated_weights = np.array([np.mean(clients_params_array[:, layer], axis=0) for layer in range(shape)])\n"
     ]
    },
    {
     "name": "stdout",
     "output_type": "stream",
     "text": [
      "Global model test performance : [0.6145201325416565, 0.7415459156036377]\n",
      "\n",
      "\n",
      "\n",
      "Accuracy round 1\n",
      "10/10 [==============================] - 21s 2s/step - loss: 0.7183 - accuracy: 0.7324 - val_loss: 0.3994 - val_accuracy: 0.8594\n",
      "10/10 [==============================] - 22s 2s/step - loss: 0.6629 - accuracy: 0.6890 - val_loss: 0.4562 - val_accuracy: 0.8255\n",
      "10/10 [==============================] - 22s 2s/step - loss: 0.7633 - accuracy: 0.7324 - val_loss: 0.5381 - val_accuracy: 0.7526\n",
      "10/10 [==============================] - 23s 2s/step - loss: 0.7552 - accuracy: 0.6522 - val_loss: 0.4319 - val_accuracy: 0.8542\n",
      "10/10 [==============================] - 22s 2s/step - loss: 0.6762 - accuracy: 0.7344 - val_loss: 0.5521 - val_accuracy: 0.7578\n",
      "Test performance client <shfl.private.federated_operation.FederatedDataNode object at 0x7f559c0e7358>: [0.40514668822288513, 0.8574879169464111]\n",
      "Test performance client <shfl.private.federated_operation.FederatedDataNode object at 0x7f559c0e7278>: [0.4501892924308777, 0.8285024166107178]\n",
      "Test performance client <shfl.private.federated_operation.FederatedDataNode object at 0x7f559c0e72e8>: [0.5425381660461426, 0.748792290687561]\n",
      "Test performance client <shfl.private.federated_operation.FederatedDataNode object at 0x7f559c0e7668>: [0.433407723903656, 0.8550724387168884]\n",
      "Test performance client <shfl.private.federated_operation.FederatedDataNode object at 0x7f559c0e7748>: [0.5610058307647705, 0.7536231875419617]\n",
      "Global model test performance : [0.4516211748123169, 0.8429951667785645]\n",
      "\n",
      "\n",
      "\n",
      "Accuracy round 2\n",
      "10/10 [==============================] - 21s 2s/step - loss: 0.5561 - accuracy: 0.7893 - val_loss: 0.3479 - val_accuracy: 0.8854\n",
      "10/10 [==============================] - 22s 2s/step - loss: 0.5566 - accuracy: 0.7559 - val_loss: 0.3411 - val_accuracy: 0.8906\n",
      "10/10 [==============================] - 23s 2s/step - loss: 0.5700 - accuracy: 0.7656 - val_loss: 0.4620 - val_accuracy: 0.8255\n",
      "10/10 [==============================] - 21s 2s/step - loss: 0.5508 - accuracy: 0.7692 - val_loss: 0.4089 - val_accuracy: 0.8672\n",
      "10/10 [==============================] - 22s 2s/step - loss: 0.5108 - accuracy: 0.8000 - val_loss: 0.3635 - val_accuracy: 0.8854\n",
      "Test performance client <shfl.private.federated_operation.FederatedDataNode object at 0x7f559c0e7358>: [0.34076738357543945, 0.8913043737411499]\n",
      "Test performance client <shfl.private.federated_operation.FederatedDataNode object at 0x7f559c0e7278>: [0.3336273431777954, 0.8937197923660278]\n",
      "Test performance client <shfl.private.federated_operation.FederatedDataNode object at 0x7f559c0e72e8>: [0.45116227865219116, 0.8357487916946411]\n",
      "Test performance client <shfl.private.federated_operation.FederatedDataNode object at 0x7f559c0e7668>: [0.3932432234287262, 0.8719806671142578]\n",
      "Test performance client <shfl.private.federated_operation.FederatedDataNode object at 0x7f559c0e7748>: [0.3562406599521637, 0.8864734172821045]\n",
      "Global model test performance : [0.3506424129009247, 0.8985507488250732]\n",
      "\n",
      "\n",
      "\n",
      "[INFO] evaluating federated network...\n",
      "                precision    recall  f1-score   support\n",
      "\n",
      "      football       0.87      0.96      0.91       155\n",
      "        tennis       0.89      0.85      0.87       134\n",
      "weight_lifting       0.95      0.87      0.91       125\n",
      "\n",
      "      accuracy                           0.90       414\n",
      "     macro avg       0.90      0.89      0.90       414\n",
      "  weighted avg       0.90      0.90      0.90       414\n",
      "\n"
     ]
    }
   ],
   "source": [
    "# Train the network:\n",
    "epochs_per_FL_round=1\n",
    "aggregator = shfl.federated_aggregator.FedAvgAggregator()\n",
    "federated_government = shfl.federated_government.FederatedGovernment(model_builder, federated_data, aggregator)\n",
    "if args[\"train_network\"]:\n",
    "    federated_government.run_rounds(args[\"federated_rounds\"], test_data, test_label)\n",
    "else:\n",
    "    print(\"[INFO] loading pre-computed model ...\")\n",
    "    model_path = os.path.join(args[\"output_path\"], args[\"model_name\"])\n",
    "    federated_government.global_model._model = load_model(model_path)\n",
    "    lb = pickle.loads(open(os.path.join(args[\"output_path\"], args[\"label_bin\"]), \"rb\").read())\n",
    "    \n",
    "# evaluate the federated network\n",
    "print(\"[INFO] evaluating federated network...\")\n",
    "predictions = federated_government.global_model.predict(data=test_data.astype(\"float32\"))\n",
    "print(classification_report(test_labels.argmax(axis=1),\n",
    "    predictions, target_names=lb.classes_))"
   ]
  },
  {
   "cell_type": "markdown",
   "metadata": {},
   "source": [
    "We evaluate the performance of the trained network using the test set. \n",
    "The federated model is compared with the centralized model, where, for a fair comparison, the latter is trained with the same number of epochs as the FL rounds (the training of the centralized model is faster compared to the federated case, since only one single model is used). \n",
    "It can be observed that the two models exhibit a similar performance, allowing us to conclude that the FL approach can produce a high accuracy model while at the same time preserving data privacy of the clients."
   ]
  },
  {
   "cell_type": "code",
   "execution_count": 5,
   "metadata": {},
   "outputs": [
    {
     "name": "stdout",
     "output_type": "stream",
     "text": [
      "Epoch 1/3\n",
      "51/51 [==============================] - 65s 1s/step - loss: 1.3314 - accuracy: 0.4286 - val_loss: 0.8435 - val_accuracy: 0.6198\n",
      "Epoch 2/3\n",
      "51/51 [==============================] - 64s 1s/step - loss: 0.8916 - accuracy: 0.6096 - val_loss: 0.5396 - val_accuracy: 0.8177\n",
      "Epoch 3/3\n",
      "51/51 [==============================] - 68s 1s/step - loss: 0.6863 - accuracy: 0.7131 - val_loss: 0.4638 - val_accuracy: 0.8385\n",
      "[INFO] evaluating centralized network...\n",
      "                precision    recall  f1-score   support\n",
      "\n",
      "      football       0.84      0.87      0.85       155\n",
      "        tennis       0.79      0.83      0.81       134\n",
      "weight_lifting       0.86      0.78      0.82       125\n",
      "\n",
      "      accuracy                           0.83       414\n",
      "     macro avg       0.83      0.83      0.83       414\n",
      "  weighted avg       0.83      0.83      0.83       414\n",
      "\n"
     ]
    }
   ],
   "source": [
    "# Comparison with Centralized experiment: \n",
    "if args[\"train_network\"]:\n",
    "    epochs_per_FL_round=args[\"federated_rounds\"]\n",
    "    centralized_model = model_builder()\n",
    "    centralized_model.train(train_data, train_labels)\n",
    "\n",
    "    # evaluate the centralized network\n",
    "    print(\"[INFO] evaluating centralized network...\")\n",
    "    predictions_centralized = centralized_model.predict(data=test_data.astype(\"float32\"))\n",
    "    print(classification_report(test_labels.argmax(axis=1),\n",
    "        predictions_centralized, target_names=lb.classes_))"
   ]
  },
  {
   "cell_type": "markdown",
   "metadata": {},
   "source": [
    "The training of the federated model can be time-consuming since, although using less data, each client needs to train a local model. \n",
    "We can serialize the trained model to disk for later use in the classification of videos:"
   ]
  },
  {
   "cell_type": "code",
   "execution_count": 9,
   "metadata": {},
   "outputs": [],
   "source": [
    "# serialize the model to disk\n",
    "if args[\"train_network\"]:\n",
    "    model_path = os.path.join(args[\"output_path\"], args[\"model_name\"])\n",
    "    federated_government.global_model._model.save(model_path, save_format=\"h5\")\n",
    "    f = open(os.path.join(args[\"output_path\"], args[\"label_bin\"]), \"wb\")\n",
    "    f.write(pickle.dumps(lb))\n",
    "    f.close()"
   ]
  },
  {
   "cell_type": "markdown",
   "metadata": {},
   "source": [
    "## Prediction: classification of videos\n",
    "We can test the correct classification of some sample videos. \n",
    "Three videos are used for tennis, weight lifting, and football. \n",
    "In the present approach, each frame is classified on its own. \n",
    "We take advantage of the temporal characteristic of the sequence by assigning the label with respect the average classification of the previous `size_averaging` number of frames. \n",
    "If `size_averaging=1`, no average is performed, resulting in the naive approach of classifying each frame of the video on its own. \n",
    "This might cause some class-flickering, as the user is invited to experiment by changing the `size_averaging` parameter:"
   ]
  },
  {
   "cell_type": "code",
   "execution_count": 8,
   "metadata": {},
   "outputs": [
    {
     "name": "stdout",
     "output_type": "stream",
     "text": [
      "[INFO] predicting video ...\n",
      "[INFO] cleaning up...\n"
     ]
    }
   ],
   "source": [
    "# Predict video\n",
    "from collections import deque\n",
    "from scipy import stats\n",
    "import errno\n",
    "\n",
    "args[\"input_video\"] = \"../data/video_classification/example_clips/tennis.mp4\"\n",
    "args[\"output_video\"] = os.path.join(args[\"output_path\"], \"tennis_classified.avi\")\n",
    "args[\"size_averaging\"] = 100\n",
    "\n",
    "model = federated_government.global_model._model\n",
    "\n",
    "# initialize the image mean for mean subtraction along with the\n",
    "# predictions queue\n",
    "mean = np.array([123.68, 116.779, 103.939][::1], dtype=\"float32\")\n",
    "Q = deque(maxlen=args[\"size_averaging\"])\n",
    "\n",
    "# initialize the video stream, pointer to output video file, and\n",
    "# frame dimensions\n",
    "vs = cv2.VideoCapture(args[\"input_video\"])\n",
    "writer = None\n",
    "(W, H) = (None, None)\n",
    "\n",
    "if not os.path.isfile(args[\"input_video\"]):\n",
    "    raise FileNotFoundError(\n",
    "        errno.ENOENT, os.strerror(errno.ENOENT), args[\"input_video\"])\n",
    "\n",
    "# loop over frames from the video file stream\n",
    "print(\"[INFO] predicting video ...\" )\n",
    "while True:\n",
    "    # read the next frame from the file\n",
    "    (grabbed, frame) = vs.read()\n",
    "\n",
    "    # if the frame was not grabbed, then we have reached the end\n",
    "    # of the stream\n",
    "    if not grabbed:\n",
    "        break\n",
    "\n",
    "    # if the frame dimensions are empty, grab them\n",
    "    if W is None or H is None:\n",
    "        (H, W) = frame.shape[:2]\n",
    "\n",
    "    # clone the output frame, then convert it from BGR to RGB\n",
    "    # ordering, resize the frame to a fixed 224x224, and then\n",
    "    # perform mean subtraction\n",
    "    output = frame.copy()\n",
    "    frame = cv2.cvtColor(frame, cv2.COLOR_BGR2RGB)\n",
    "    frame = cv2.resize(frame, (224, 224)).astype(\"float32\")\n",
    "    frame -= mean\n",
    "\n",
    "    # make predictions on the frame and then update the predictions\n",
    "    # queue\n",
    "    preds = model.predict(np.expand_dims(frame, axis=0))\n",
    "    Q.append(preds)\n",
    "\n",
    "    # perform prediction averaging over the current history of\n",
    "    # previous predictions\n",
    "    results = np.array(Q).mean(axis=0)\n",
    "    i = np.argmax(results)\n",
    "    label = lb.classes_[i]\n",
    "\n",
    "    # draw the activity on the output frame\n",
    "    text = \"activity: {}\".format(label)\n",
    "    cv2.putText(output, text, (35, 50), cv2.FONT_HERSHEY_SIMPLEX,\n",
    "        1.25, (0, 255, 0), 5)\n",
    "\n",
    "    # check if the video writer is None\n",
    "    if writer is None:\n",
    "        # initialize our video writer\n",
    "        fourcc = cv2.VideoWriter_fourcc(*\"MJPG\")\n",
    "        writer = cv2.VideoWriter(args[\"output_video\"], fourcc, 30,\n",
    "            (W, H), True)\n",
    "\n",
    "    # write the output frame to disk\n",
    "    writer.write(output)\n",
    "\n",
    "\n",
    "# release the file pointers\n",
    "print(\"[INFO] cleaning up...\")\n",
    "writer.release()\n",
    "vs.release()"
   ]
  },
  {
   "cell_type": "markdown",
   "metadata": {},
   "source": [
    "## Concluding remarks\n",
    "The goal of the present notebook is to train a neural network for video classification in the **federated context** using Sherpa FL framework. \n",
    "It is shown that the procedure is straightforward using the framework classes.\n",
    "In this experiment, the network is trained on images (not videos), thus not taking into account any spatial-temporal information. \n",
    "More advanced approaches can be used when training over videos (see e.g. [Karpathy et al., 2014](https://static.googleusercontent.com/media/research.google.com/en//pubs/archive/42455.pdf) and [Simonyan and Zisserman, 2014](https://arxiv.org/pdf/1406.2199.pdf)).\n",
    "However, the only difference with respect what exposed in the present notebook would consist in setting up and training the local model, while the straightforward creation of the federated experiment with Sherpa FL framework would be exactly the same."
   ]
  }
 ],
 "metadata": {
  "kernelspec": {
   "display_name": "SherpaFL_py37",
   "language": "python",
   "name": "sherpafl_py37"
  },
  "language_info": {
   "codemirror_mode": {
    "name": "ipython",
    "version": 3
   },
   "file_extension": ".py",
   "mimetype": "text/x-python",
   "name": "python",
   "nbconvert_exporter": "python",
   "pygments_lexer": "ipython3",
   "version": "3.7.3"
  }
 },
 "nbformat": 4,
 "nbformat_minor": 4
}
